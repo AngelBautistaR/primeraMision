{
 "cells": [
  {
   "cell_type": "markdown",
   "metadata": {},
   "source": [
    "# Katas del módulo 3"
   ]
  },
  {
   "cell_type": "markdown",
   "metadata": {},
   "source": [
    "# Ejercicio 1"
   ]
  },
  {
   "cell_type": "code",
   "execution_count": 5,
   "metadata": {},
   "outputs": [
    {
     "name": "stdout",
     "output_type": "stream",
     "text": [
      "No hay problema\n"
     ]
    }
   ],
   "source": [
    "asteroide = 13\n",
    "if asteroide > 25:\n",
    "    print('¡Alerta! ¡Un asteroide se acerca peligrosamente!')\n",
    "else:\n",
    "    print('No hay problema')"
   ]
  },
  {
   "cell_type": "markdown",
   "metadata": {},
   "source": [
    "# Ejercicio 2"
   ]
  },
  {
   "cell_type": "code",
   "execution_count": 6,
   "metadata": {},
   "outputs": [
    {
     "name": "stdout",
     "output_type": "stream",
     "text": [
      "¡No hay nada que ver!\n"
     ]
    }
   ],
   "source": [
    "asteroide = 19\n",
    "if asteroide > 20:\n",
    "    print('¡Mira! ¡Hay una luz mágina en el cielo!')\n",
    "elif asteroide == 20:\n",
    "    print('¡Mira! ¡Hay una luz mágina en el cielo!')\n",
    "else:\n",
    "    print('¡No hay nada que ver!')"
   ]
  },
  {
   "cell_type": "markdown",
   "metadata": {},
   "source": [
    "# Ejercicio 3"
   ]
  },
  {
   "cell_type": "code",
   "execution_count": 7,
   "metadata": {},
   "outputs": [
    {
     "name": "stdout",
     "output_type": "stream",
     "text": [
      "¡Mira! ¡Hay una luz mágica en el cielo!\n"
     ]
    }
   ],
   "source": [
    "velocidad_asteroide = 100\n",
    "tamano_asteroide = 10\n",
    "if velocidad_asteroide > 25 and tamano_asteroide > 25:\n",
    "    print('¡Alerta, Un asteroide muy peligroso viene hacia nosotros!')\n",
    "elif velocidad_asteroide >= 20:\n",
    "    print('¡Mira! ¡Hay una luz mágica en el cielo!')\n",
    "elif tamano_asteroide < 25:\n",
    "    print('Nada que ver aquí')\n",
    "else:\n",
    "    print('Nada que ver aquí')"
   ]
  }
 ],
 "metadata": {
  "interpreter": {
   "hash": "0202cde7eb77eacf1a5a6e798d58d82e869bbc937c2a6cdb62add1d12e5bc71f"
  },
  "kernelspec": {
   "display_name": "Python 3.10.2 64-bit",
   "language": "python",
   "name": "python3"
  },
  "language_info": {
   "codemirror_mode": {
    "name": "ipython",
    "version": 3
   },
   "file_extension": ".py",
   "mimetype": "text/x-python",
   "name": "python",
   "nbconvert_exporter": "python",
   "pygments_lexer": "ipython3",
   "version": "3.10.2"
  },
  "orig_nbformat": 4
 },
 "nbformat": 4,
 "nbformat_minor": 2
}
